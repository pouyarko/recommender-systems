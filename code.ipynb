{
 "cells": [
  {
   "cell_type": "code",
   "execution_count": null,
   "id": "ac27d324-e7f5-40e9-ab36-795ee1c66249",
   "metadata": {},
   "outputs": [],
   "source": [
    "import numpy as np\n",
    "from matplotlib import pyplot as plt\n",
    "import os\n",
    "import tensorflow as tf\n",
    "from tensorflow import keras\n",
    "import pandas\n",
    "from tqdm import tqdm"
   ]
  },
  {
   "cell_type": "code",
   "execution_count": null,
   "id": "b9980f33-e6a2-4f72-88f3-5f5166137587",
   "metadata": {},
   "outputs": [],
   "source": [
    "tf.config.list_physical_devices()"
   ]
  },
  {
   "cell_type": "code",
   "execution_count": null,
   "id": "cde46733-f298-41d1-a86d-cc16ec294cb3",
   "metadata": {},
   "outputs": [],
   "source": [
    "data = pandas.read_csv(\"bazaar-challenge-data/installed_apps.csv\")\n",
    "data_related = pandas.read_csv(\"bazaar-challenge-data/related_apps.csv\")"
   ]
  },
  {
   "cell_type": "markdown",
   "id": "566b0db1-ac3a-416c-b98f-495ef9b3d691",
   "metadata": {},
   "source": [
    "Hyperparameters"
   ]
  },
  {
   "cell_type": "code",
   "execution_count": null,
   "id": "9b96f4e6-eb54-4e19-9d70-64e2a79199a8",
   "metadata": {},
   "outputs": [],
   "source": [
    "steps_per_epoch = 1000\n",
    "steps_per_val_epoch = 200\n",
    "runs_dir = \"Runs/\"\n",
    "model_name = \"batch_size_+1_train\"\n",
    "model_dir = runs_dir + model_name + \"/\"\n",
    "Epochs = 150\n",
    "num_classes = 45231\n",
    "last_epoch = -1"
   ]
  },
  {
   "cell_type": "code",
   "execution_count": null,
   "id": "1b68ce40-c45c-464d-95ab-49c5fa6e7ab6",
   "metadata": {},
   "outputs": [],
   "source": [
    "length = {} # number of rows for each length\n",
    "rows_of_length_n = [[] for i in range(100)] # rows with a length of n\n",
    "length_list = [] # length of each row\n",
    "\n",
    "for i in range(100):\n",
    "    length[i] = 0\n",
    "for i in tqdm(range(1000000)):\n",
    "    length_list.append(len([int(i.replace('\\'', '')) for i in data['installed_apps'][i][1:-1].split(',')]))\n",
    "    length[len([int(i.replace('\\'', '')) for i in data['installed_apps'][i][1:-1].split(',')])] += 1\n",
    "\n",
    "for i in range(1000000):\n",
    "    rows_of_length_n[length_list[i]].append(i)"
   ]
  },
  {
   "cell_type": "code",
   "execution_count": null,
   "id": "fb00f84c-6d4e-43a7-9083-9bf7f547d125",
   "metadata": {},
   "outputs": [],
   "source": [
    "lens = np.zeros(100)\n",
    "for i in length:\n",
    "    lens[i] = length[i]\n",
    "plt.plot(lens)"
   ]
  },
  {
   "cell_type": "markdown",
   "id": "8dc3c722-d9ff-42e5-a5d8-7a3dabcf6546",
   "metadata": {},
   "source": [
    "Defining the model"
   ]
  },
  {
   "cell_type": "code",
   "execution_count": null,
   "id": "85edf139-34df-4168-b1e5-3ed62019e5f1",
   "metadata": {},
   "outputs": [],
   "source": [
    "x_inp = tf.keras.layers.Input(shape=(None,1))\n",
    "L1 = (keras.layers.LSTM(256, activation='relu', return_sequences=True))(x_inp)\n",
    "L2 = (keras.layers.LSTM(256, activation='relu', return_sequences=True))(L1)\n",
    "L3 = (keras.layers.LSTM(128, activation='relu', return_sequences=False))(L2)\n",
    "D1 = (keras.layers.Dense(100, activation='relu'))(L3)\n",
    "D2 = (keras.layers.Dense(80, activation='relu'))(D1)\n",
    "Out = (keras.layers.Dense(45231, activation='softmax'))(D2)\n",
    "model = tf.keras.models.Model(inputs=[x_inp], outputs=[Out])\n",
    "model.compile(loss=tf.keras.losses.sparse_categorical_crossentropy,\n",
    "              optimizer=tf.keras.optimizers.Adam(),\n",
    "              metrics=['accuracy'])\n",
    "\n",
    "model.summary()"
   ]
  },
  {
   "cell_type": "markdown",
   "id": "13011991-4179-441a-a6d7-b4ac2a17ec04",
   "metadata": {},
   "source": [
    "Data generator(returns rows with length size-1 as x and returns the last element as y)"
   ]
  },
  {
   "cell_type": "code",
   "execution_count": null,
   "id": "15c53589-21c7-42dd-8ac1-2714f0361b2b",
   "metadata": {},
   "outputs": [],
   "source": [
    "def numpy_by_size(size):\n",
    "    x = np.zeros((length[size],size-1,1), dtype = np.uint16)\n",
    "    y = np.zeros((length[size],1,1), dtype = np.uint16)\n",
    "    \n",
    "    rows = rows_of_length_n[size]\n",
    "    for i in range(length[size]):\n",
    "        \n",
    "        this_row = np.array([int(row.replace('\\'', '')) for row in data['installed_apps'][rows[i]][1:-1].split(',')])        \n",
    "        x[i] = np.expand_dims(this_row[:-1],1)\n",
    "        y[i] = np.expand_dims(this_row[-1],0)\n",
    "        \n",
    "    return x, y"
   ]
  },
  {
   "cell_type": "code",
   "execution_count": null,
   "id": "f3b14b18-0e1e-4e40-a9df-c8a8e4b3e4d7",
   "metadata": {},
   "outputs": [],
   "source": [
    "def test_numpy_by_size(size):\n",
    "    x = np.zeros((length[size],size,1), dtype = np.uint16)\n",
    "    \n",
    "    \n",
    "    rows = rows_of_length_n[size]\n",
    "    for i in range(length[size]):\n",
    "        \n",
    "        this_row = np.array([int(row.replace('\\'', '')) for row in data['installed_apps'][rows[i]][1:-1].split(',')])        \n",
    "        x[i] = np.expand_dims(this_row,1)\n",
    "        \n",
    "    return x"
   ]
  },
  {
   "cell_type": "markdown",
   "id": "c4cbf587-a70c-4344-a370-6dcc1325f430",
   "metadata": {},
   "source": [
    "Training and testing Loop"
   ]
  },
  {
   "cell_type": "code",
   "execution_count": null,
   "id": "adc6e8e1-1be4-46c7-b7c3-190c6c1ab983",
   "metadata": {},
   "outputs": [],
   "source": [
    "l = [[] for i in range(1000000)]\n",
    "\n",
    "for i in tqdm(range(1000000)):\n",
    "    l[i].append(i)\n",
    "\n",
    "for i in tqdm(range(2,101)):\n",
    "    if i < 35:\n",
    "        features, target = numpy_by_size(i)\n",
    "        print(\"Training with size\", i ,\":\")\n",
    "        model.fit(  features,\n",
    "                    target,\n",
    "                    validation_data=valgenerator_1,\n",
    "                    batch_size = 20,\n",
    "                    epochs=1,\n",
    "                    shuffle = True,\n",
    "                    # steps_per_epoch=length[i],\n",
    "                    validation_steps=steps_per_val_epoch)\n",
    "                    # validation_split = 0.1)\n",
    "        model.save(model_dir + model_name + \"_size_\" + str(i) + \".h5\")\n",
    "    \n",
    "    test = test_numpy_by_size(i - 1)\n",
    "    pred = model.predict(test, verbose=False)\n",
    "\n",
    "    rows = rows_of_length_n[i - 1]\n",
    "    for k in range(length[i-1]):\n",
    "        pred_row = pred[k]\n",
    "        j = 0\n",
    "        lis = [int(row.replace('\\'', '')) for row in data['installed_apps'][rows[k]][1:-1].split(',')]\n",
    "        while j < 10:\n",
    "            if not(np.argmax(pred_row) in lis):\n",
    "                l[rows[k]].append(np.argmax(pred_row))\n",
    "                j += 1\n",
    "            pred_row[np.argmax(pred_row)] = 0"
   ]
  },
  {
   "cell_type": "code",
   "execution_count": null,
   "id": "f8ad1344-722b-4e0b-8ca1-7b6b50bc3f82",
   "metadata": {},
   "outputs": [],
   "source": [
    "relation = [[] for i in range(45231)]\n",
    "for i in range(177745):\n",
    "    relation[data_related['src_app_id'][i]].append([data_related['dst_app_id'][i],data_related['installs'][i]])"
   ]
  },
  {
   "cell_type": "code",
   "execution_count": null,
   "id": "ec93ec26-5c26-409c-87c3-e291fb475032",
   "metadata": {},
   "outputs": [],
   "source": [
    "for i in tqdm(range(1000000)):\n",
    "    row_list = [int(row.replace('\\'', '')) for row in data['installed_apps'][i][1:-1].split(',')]\n",
    "    if len(row_list) == 1:\n",
    "        last = row_list[-1]\n",
    "        tes = len(l[last])\n",
    "        which = 0\n",
    "        for j in range(min(tes,4)):\n",
    "            if l[last][0][1] > 50 and not(l[last][0][0] in relation[i]):\n",
    "                relation[i][9-which] = l[last][j][0]\n",
    "                which += 1\n",
    "    else:\n",
    "        last = row_list[-1]\n",
    "        second = row_list[-2]\n",
    "        tes = len(l[last])\n",
    "        tes2 = len(l[second])\n",
    "        which = 0\n",
    "        for j in range(min(tes,4)):\n",
    "            if l[last][0][1] > 50 and not(l[last][j][0] in relation[i]):\n",
    "                relation[i][which] = l[last][j][0]\n",
    "                which += 1\n",
    "        for j in range(min(tes2,2)):\n",
    "            if l[second][0][1] > 100 and not(l[second][j][0] in relation[i]):\n",
    "                relation[i][which] = l[second][j][0]\n",
    "                which += 1\n",
    "    \n"
   ]
  },
  {
   "cell_type": "code",
   "execution_count": null,
   "id": "77a54815-02cc-4f2f-b060-c1e8ad6b51c0",
   "metadata": {},
   "outputs": [],
   "source": [
    "header = ['user_id','app_id0','app_id1','app_id2','app_id3','app_id4','app_id5','app_id6','app_id7','app_id8','app_id9']\n",
    "send_file_data = pandas.DataFrame(l, columns=header)\n",
    "send_file_data.to_csv('result.csv', index=False)"
   ]
  }
 ],
 "metadata": {
  "kernelspec": {
   "display_name": "Python 3 (ipykernel)",
   "language": "python",
   "name": "python3"
  },
  "language_info": {
   "codemirror_mode": {
    "name": "ipython",
    "version": 3
   },
   "file_extension": ".py",
   "mimetype": "text/x-python",
   "name": "python",
   "nbconvert_exporter": "python",
   "pygments_lexer": "ipython3",
   "version": "3.11.4"
  }
 },
 "nbformat": 4,
 "nbformat_minor": 5
}
